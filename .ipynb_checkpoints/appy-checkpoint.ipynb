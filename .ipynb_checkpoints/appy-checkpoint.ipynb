{
 "cells": [
  {
   "cell_type": "code",
   "execution_count": 2,
   "metadata": {},
   "outputs": [],
   "source": [
    "from flask import Flask, request, render_template\n",
    "import pickle\n",
    "import numpy as np"
   ]
  },
  {
   "cell_type": "code",
   "execution_count": null,
   "metadata": {},
   "outputs": [],
   "source": [
    "app = Flask(__name__)\n",
    "\n",
    "@app.route('/')\n",
    "def home():\n",
    "\treturn render_template('home.html')\n",
    "@app.route('/getcause',methods=['POST','GET'])\n",
    "def get_cause():\n",
    "    if request.method=='POST':\n",
    "        result=request.form\n",
    "        \n",
    "        méthode = result['méthode']\n",
    "        code_error = result['code_error']\n",
    "        duration = result['duration']\n",
    "        direction = result['direction']\n",
    "        typee = result['type']\n",
    "        Mode_authApp_Axway = result['Mode_authApp_Axway']\n",
    "        Mode_authAxway_Backend = result['Mode_authAxway_Backend']\n",
    "\t\t\n",
    "\t\t#Prepare the feature vector for prediction\n",
    "        pkl_file = open('cat', 'rb')\n",
    "        index_dict = pickle.load(pkl_file)\n",
    "        cat_vector = np.zeros(len(index_dict))\n",
    "        \n",
    "        try:\n",
    "            cat_vector[index_dict['méthode'+str(méthode)]] = 1\n",
    "        except:\n",
    "            pass\n",
    "        try:\n",
    "            cat_vector[index_dict['code_error'+str(code_error)]] = 1\n",
    "        except:\n",
    "            pass\n",
    "        try:\n",
    "            cat_vector[index_dict['duration'+str(duration)]] = 1\n",
    "        except:\n",
    "            pass\n",
    "        try:\n",
    "            cat_vector[index_dict['direction'+str(direction)]] = 1\n",
    "        except:\n",
    "            pass\n",
    "        try:\n",
    "            cat_vector[index_dict['type'+str(typee)]] = 1\n",
    "        except:\n",
    "            pass\n",
    "        try:\n",
    "            cat_vector[index_dict['Mode_authApp_Axway'+str(Mode_authApp_Axway)]] = 1\n",
    "        except:\n",
    "            pass\n",
    "        try:\n",
    "            cat_vector[index_dict['Mode_authApp_Axway'+str(Mode_authApp_Axway)]] = 1\n",
    "        except:\n",
    "            pass\n",
    "        \n",
    "        pkl_file = open('model_LR.pkl', 'rb')\n",
    "        logmodel = pickle.load(pkl_file)\n",
    "        prediction = model_LR.predict(cat_vector)\n",
    "        \n",
    "        return render_template('result.html',prediction=prediction)\n",
    "if __name__ == \"__main__\" :  # ne pas exécuter dans un notebook\n",
    "    app.run()\n",
    "        \n",
    "        "
   ]
  },
  {
   "cell_type": "code",
   "execution_count": null,
   "metadata": {},
   "outputs": [],
   "source": []
  }
 ],
 "metadata": {
  "kernelspec": {
   "display_name": "Python 3",
   "language": "python",
   "name": "python3"
  },
  "language_info": {
   "codemirror_mode": {
    "name": "ipython",
    "version": 3
   },
   "file_extension": ".py",
   "mimetype": "text/x-python",
   "name": "python",
   "nbconvert_exporter": "python",
   "pygments_lexer": "ipython3",
   "version": "3.7.0"
  }
 },
 "nbformat": 4,
 "nbformat_minor": 2
}
