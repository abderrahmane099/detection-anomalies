{
 "cells": [
  {
   "cell_type": "code",
   "execution_count": 1,
   "metadata": {},
   "outputs": [],
   "source": [
    "# Import libraries and set desired options\n",
    "import numpy as np\n",
    "import pandas as pd\n",
    "from sklearn.preprocessing import LabelEncoder\n",
    "from sklearn.preprocessing import OneHotEncoder\n",
    "from sklearn.preprocessing import OrdinalEncoder\n",
    "from sklearn.model_selection import train_test_split"
   ]
  },
  {
   "cell_type": "code",
   "execution_count": 10,
   "metadata": {},
   "outputs": [
    {
     "data": {
      "text/plain": [
       "(2105, 9)"
      ]
     },
     "execution_count": 10,
     "metadata": {},
     "output_type": "execute_result"
    }
   ],
   "source": [
    "import pandas as pd\n",
    "datast=pd.read_excel('dataset_appre.xlsx')\n",
    "datast.shape"
   ]
  },
  {
   "cell_type": "code",
   "execution_count": 11,
   "metadata": {},
   "outputs": [
    {
     "data": {
      "text/html": [
       "<div>\n",
       "<style scoped>\n",
       "    .dataframe tbody tr th:only-of-type {\n",
       "        vertical-align: middle;\n",
       "    }\n",
       "\n",
       "    .dataframe tbody tr th {\n",
       "        vertical-align: top;\n",
       "    }\n",
       "\n",
       "    .dataframe thead th {\n",
       "        text-align: right;\n",
       "    }\n",
       "</style>\n",
       "<table border=\"1\" class=\"dataframe\">\n",
       "  <thead>\n",
       "    <tr style=\"text-align: right;\">\n",
       "      <th></th>\n",
       "      <th>path</th>\n",
       "      <th>code_error</th>\n",
       "      <th>cause_anomalie</th>\n",
       "      <th>méthode</th>\n",
       "      <th>duration</th>\n",
       "      <th>direction</th>\n",
       "      <th>type</th>\n",
       "      <th>Mode_authApp_Axway</th>\n",
       "      <th>Mode_authAxway_Backend</th>\n",
       "    </tr>\n",
       "  </thead>\n",
       "  <tbody>\n",
       "    <tr>\n",
       "      <th>0</th>\n",
       "      <td>/monetique/utilisateur</td>\n",
       "      <td>401 Unauthorized</td>\n",
       "      <td>invalid_token</td>\n",
       "      <td>POST</td>\n",
       "      <td>30</td>\n",
       "      <td>axway</td>\n",
       "      <td>REST</td>\n",
       "      <td>Oauth</td>\n",
       "      <td>No Authentication</td>\n",
       "    </tr>\n",
       "    <tr>\n",
       "      <th>1</th>\n",
       "      <td>/01-bitumes</td>\n",
       "      <td>400 Bad Request</td>\n",
       "      <td>Failure BackEnd</td>\n",
       "      <td>POST</td>\n",
       "      <td>120315</td>\n",
       "      <td>axway-BackEnd</td>\n",
       "      <td>SOAP</td>\n",
       "      <td>No authentication</td>\n",
       "      <td>No Authentication</td>\n",
       "    </tr>\n",
       "    <tr>\n",
       "      <th>2</th>\n",
       "      <td>/01-ELUB/eOrder</td>\n",
       "      <td>403 Forbidden</td>\n",
       "      <td>The client IP is denied access</td>\n",
       "      <td>POST</td>\n",
       "      <td>18</td>\n",
       "      <td>axway</td>\n",
       "      <td>SOAP</td>\n",
       "      <td>No authentication</td>\n",
       "      <td>No Authentication</td>\n",
       "    </tr>\n",
       "    <tr>\n",
       "      <th>3</th>\n",
       "      <td>/UDV-preprod/v13/UDVvdb_14/WellLink/DrillString</td>\n",
       "      <td>400 Bad Request</td>\n",
       "      <td>Unable to check if parameter  is required</td>\n",
       "      <td>GET</td>\n",
       "      <td>30161</td>\n",
       "      <td>axway-BackEnd</td>\n",
       "      <td>REST</td>\n",
       "      <td>API Key</td>\n",
       "      <td>No Authentication</td>\n",
       "    </tr>\n",
       "    <tr>\n",
       "      <th>4</th>\n",
       "      <td>/fuel/v1/whitelabel/stations/ND007591/pumpandp...</td>\n",
       "      <td>403 Forbidden</td>\n",
       "      <td>Application Not Authorized</td>\n",
       "      <td>GET</td>\n",
       "      <td>13</td>\n",
       "      <td>axway</td>\n",
       "      <td>REST</td>\n",
       "      <td>API Key</td>\n",
       "      <td>No Authentication</td>\n",
       "    </tr>\n",
       "  </tbody>\n",
       "</table>\n",
       "</div>"
      ],
      "text/plain": [
       "                                                path        code_error  \\\n",
       "0                             /monetique/utilisateur  401 Unauthorized   \n",
       "1                                        /01-bitumes   400 Bad Request   \n",
       "2                                    /01-ELUB/eOrder     403 Forbidden   \n",
       "3    /UDV-preprod/v13/UDVvdb_14/WellLink/DrillString   400 Bad Request   \n",
       "4  /fuel/v1/whitelabel/stations/ND007591/pumpandp...     403 Forbidden   \n",
       "\n",
       "                              cause_anomalie méthode  duration      direction  \\\n",
       "0                              invalid_token    POST        30          axway   \n",
       "1                            Failure BackEnd    POST    120315  axway-BackEnd   \n",
       "2             The client IP is denied access    POST        18          axway   \n",
       "3  Unable to check if parameter  is required     GET     30161  axway-BackEnd   \n",
       "4                 Application Not Authorized     GET        13          axway   \n",
       "\n",
       "   type Mode_authApp_Axway Mode_authAxway_Backend  \n",
       "0  REST              Oauth      No Authentication  \n",
       "1  SOAP  No authentication      No Authentication  \n",
       "2  SOAP  No authentication      No Authentication  \n",
       "3  REST            API Key      No Authentication  \n",
       "4  REST            API Key      No Authentication  "
      ]
     },
     "execution_count": 11,
     "metadata": {},
     "output_type": "execute_result"
    }
   ],
   "source": [
    "datast.head()"
   ]
  },
  {
   "cell_type": "code",
   "execution_count": 7,
   "metadata": {},
   "outputs": [
    {
     "name": "stdout",
     "output_type": "stream",
     "text": [
      "<class 'pandas.core.frame.DataFrame'>\n",
      "RangeIndex: 2105 entries, 0 to 2104\n",
      "Data columns (total 9 columns):\n",
      "path                      2105 non-null object\n",
      "code_error                2105 non-null object\n",
      "cause_anomalie            2105 non-null object\n",
      "méthode                   2105 non-null object\n",
      "duration                  2105 non-null int64\n",
      "direction                 2105 non-null object\n",
      "type                      2105 non-null object\n",
      "Mode_authApp_Axway        2105 non-null object\n",
      "Mode_authAxway_Backend    2105 non-null object\n",
      "dtypes: int64(1), object(8)\n",
      "memory usage: 148.1+ KB\n"
     ]
    }
   ],
   "source": [
    "datast.info()"
   ]
  },
  {
   "cell_type": "code",
   "execution_count": null,
   "metadata": {},
   "outputs": [],
   "source": []
  },
  {
   "cell_type": "code",
   "execution_count": 16,
   "metadata": {},
   "outputs": [
    {
     "name": "stdout",
     "output_type": "stream",
     "text": [
      "<class 'pandas.core.frame.DataFrame'>\n"
     ]
    }
   ],
   "source": [
    "print(type(datast))"
   ]
  },
  {
   "cell_type": "code",
   "execution_count": 36,
   "metadata": {},
   "outputs": [
    {
     "name": "stdout",
     "output_type": "stream",
     "text": [
      "Index(['path', 'code_error', 'anomlaie ', 'méthode', 'duration', 'direction',\n",
      "       'type', 'Mode_authApp_Axway', 'Mode_authAxway_Backend'],\n",
      "      dtype='object')\n"
     ]
    }
   ],
   "source": [
    "print(datast.columns)"
   ]
  },
  {
   "cell_type": "code",
   "execution_count": 77,
   "metadata": {},
   "outputs": [
    {
     "ename": "AttributeError",
     "evalue": "'numpy.ndarray' object has no attribute 'head'",
     "output_type": "error",
     "traceback": [
      "\u001b[1;31m---------------------------------------------------------------------------\u001b[0m",
      "\u001b[1;31mAttributeError\u001b[0m                            Traceback (most recent call last)",
      "\u001b[1;32m<ipython-input-77-3820eb853cb5>\u001b[0m in \u001b[0;36m<module>\u001b[1;34m()\u001b[0m\n\u001b[0;32m      5\u001b[0m \u001b[1;31m#enc = OrdinalEncoder()\u001b[0m\u001b[1;33m\u001b[0m\u001b[1;33m\u001b[0m\u001b[0m\n\u001b[0;32m      6\u001b[0m \u001b[1;31m#X=enc.fit(X[:,1])\u001b[0m\u001b[1;33m\u001b[0m\u001b[1;33m\u001b[0m\u001b[0m\n\u001b[1;32m----> 7\u001b[1;33m \u001b[0mX\u001b[0m\u001b[1;33m.\u001b[0m\u001b[0mhead\u001b[0m\u001b[1;33m(\u001b[0m\u001b[1;33m)\u001b[0m\u001b[1;33m\u001b[0m\u001b[0m\n\u001b[0m\u001b[0;32m      8\u001b[0m \u001b[1;31m#Y=pd.DataFrame(X)\u001b[0m\u001b[1;33m\u001b[0m\u001b[1;33m\u001b[0m\u001b[0m\n\u001b[0;32m      9\u001b[0m \u001b[1;31m#Y.head()\u001b[0m\u001b[1;33m\u001b[0m\u001b[1;33m\u001b[0m\u001b[0m\n",
      "\u001b[1;31mAttributeError\u001b[0m: 'numpy.ndarray' object has no attribute 'head'"
     ]
    }
   ],
   "source": [
    "enc = OrdinalEncoder()\n",
    "X=datast.iloc[:,:].values\n",
    "labelencoder_X=LabelEncoder()\n",
    "X[:,1]=labelencoder_X.fit_transform(X[:,1])\n",
    "#enc = OrdinalEncoder()\n",
    "#X=enc.fit(X[:,1])\n",
    "X.head()\n",
    "#Y=pd.DataFrame(X)\n",
    "#Y.head()\n",
    "\n"
   ]
  },
  {
   "cell_type": "code",
   "execution_count": null,
   "metadata": {},
   "outputs": [
    {
     "name": "stdout",
     "output_type": "stream",
     "text": [
      " * Serving Flask app \"__main__\" (lazy loading)\n",
      " * Environment: production\n",
      "   WARNING: Do not use the development server in a production environment.\n",
      "   Use a production WSGI server instead.\n",
      " * Debug mode: off\n"
     ]
    },
    {
     "name": "stderr",
     "output_type": "stream",
     "text": [
      " * Running on http://127.0.0.1:5000/ (Press CTRL+C to quit)\n",
      "127.0.0.1 - - [22/Jun/2019 18:20:19] \"GET / HTTP/1.1\" 200 -\n",
      "127.0.0.1 - - [22/Jun/2019 18:22:45] \"GET / HTTP/1.1\" 200 -\n"
     ]
    }
   ],
   "source": [
    "from flask import Flask  # pip install flask\n",
    "app = Flask(__name__)\n",
    "\n",
    "@app.route(\"/\")\n",
    "def hello():\n",
    "    return \"Hello World!\"\n",
    "\n",
    "if __name__ == \"__main__\" :  # ne pas exécuter dans un notebook\n",
    "    app.run()"
   ]
  },
  {
   "cell_type": "code",
   "execution_count": null,
   "metadata": {},
   "outputs": [],
   "source": []
  }
 ],
 "metadata": {
  "kernelspec": {
   "display_name": "Python 3",
   "language": "python",
   "name": "python3"
  },
  "language_info": {
   "codemirror_mode": {
    "name": "ipython",
    "version": 3
   },
   "file_extension": ".py",
   "mimetype": "text/x-python",
   "name": "python",
   "nbconvert_exporter": "python",
   "pygments_lexer": "ipython3",
   "version": "3.7.0"
  }
 },
 "nbformat": 4,
 "nbformat_minor": 2
}
